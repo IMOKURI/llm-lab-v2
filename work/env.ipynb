{
 "cells": [
  {
   "cell_type": "code",
   "execution_count": 1,
   "id": "8c499a61-b16a-42b6-b9a9-1a56968c86df",
   "metadata": {},
   "outputs": [
    {
     "data": {
      "text/plain": [
       "{'SHELL': '/bin/bash',\n",
       " 'NVIDIA_VISIBLE_DEVICES': '0',\n",
       " 'CONDA_EXE': '/opt/conda/bin/conda',\n",
       " 'HOSTNAME': '91829629d72c',\n",
       " 'LANGUAGE': 'C.UTF-8',\n",
       " '_START_SH_EXECUTED': '1',\n",
       " 'NB_UID': '1000',\n",
       " 'JULIA_PKGDIR': '/opt/julia',\n",
       " 'XML_CATALOG_FILES': 'file:///opt/conda/etc/xml/catalog file:///etc/xml/catalog',\n",
       " 'PWD': '/home/jovyan',\n",
       " 'GSETTINGS_SCHEMA_DIR': '/opt/conda/share/glib-2.0/schemas',\n",
       " 'CONDA_PREFIX': '/opt/conda',\n",
       " 'GSETTINGS_SCHEMA_DIR_CONDA_BACKUP': '',\n",
       " 'RSTUDIO_WHICH_R': '/opt/conda/bin/R',\n",
       " 'HOME': '/home/jovyan',\n",
       " 'LANG': 'C.UTF-8',\n",
       " 'NB_GID': '100',\n",
       " 'CONDA_PROMPT_MODIFIER': '(base) ',\n",
       " 'CONDA_SHLVL': '1',\n",
       " 'SHLVL': '0',\n",
       " 'CONDA_DIR': '/opt/conda',\n",
       " 'JULIA_DEPOT_PATH': '/opt/julia',\n",
       " 'CONDA_PYTHON_EXE': '/opt/conda/bin/python',\n",
       " 'JUPYTER_PORT': '8888',\n",
       " 'CONDA_DEFAULT_ENV': 'base',\n",
       " 'NB_USER': 'jovyan',\n",
       " 'LC_ALL': 'C.UTF-8',\n",
       " 'PATH': '/opt/conda/bin:/opt/conda/condabin:/opt/conda/bin:/usr/local/sbin:/usr/local/bin:/usr/sbin:/usr/bin:/sbin:/bin',\n",
       " 'DEBIAN_FRONTEND': 'noninteractive',\n",
       " 'GIT_PYTHON_REFRESH': 'quiet',\n",
       " 'JPY_SESSION_NAME': '/home/jovyan/work/Untitled.ipynb',\n",
       " 'JPY_PARENT_PID': '7',\n",
       " 'PYDEVD_USE_FRAME_EVAL': 'NO',\n",
       " 'TERM': 'xterm-color',\n",
       " 'CLICOLOR': '1',\n",
       " 'FORCE_COLOR': '1',\n",
       " 'CLICOLOR_FORCE': '1',\n",
       " 'PAGER': 'cat',\n",
       " 'GIT_PAGER': 'cat',\n",
       " 'MPLBACKEND': 'module://matplotlib_inline.backend_inline'}"
      ]
     },
     "execution_count": 1,
     "metadata": {},
     "output_type": "execute_result"
    }
   ],
   "source": [
    "env"
   ]
  },
  {
   "cell_type": "code",
   "execution_count": 2,
   "id": "a04ce2a4-4ed0-445f-848d-ca5d42e57daf",
   "metadata": {},
   "outputs": [
    {
     "name": "stdout",
     "output_type": "stream",
     "text": [
      "Wed Aug 20 06:12:57 2025       \n",
      "+-----------------------------------------------------------------------------------------+\n",
      "| NVIDIA-SMI 570.124.06             Driver Version: 570.124.06     CUDA Version: 12.8     |\n",
      "|-----------------------------------------+------------------------+----------------------+\n",
      "| GPU  Name                 Persistence-M | Bus-Id          Disp.A | Volatile Uncorr. ECC |\n",
      "| Fan  Temp   Perf          Pwr:Usage/Cap |           Memory-Usage | GPU-Util  Compute M. |\n",
      "|                                         |                        |               MIG M. |\n",
      "|=========================================+========================+======================|\n",
      "|   0  NVIDIA H100 NVL                Off |   00000000:0A:00.0 Off |                    0 |\n",
      "| N/A   28C    P0             59W /  400W |       1MiB /  95830MiB |      0%      Default |\n",
      "|                                         |                        |             Disabled |\n",
      "+-----------------------------------------+------------------------+----------------------+\n",
      "                                                                                         \n",
      "+-----------------------------------------------------------------------------------------+\n",
      "| Processes:                                                                              |\n",
      "|  GPU   GI   CI              PID   Type   Process name                        GPU Memory |\n",
      "|        ID   ID                                                               Usage      |\n",
      "|=========================================================================================|\n",
      "|  No running processes found                                                             |\n",
      "+-----------------------------------------------------------------------------------------+\n"
     ]
    }
   ],
   "source": [
    "!nvidia-smi"
   ]
  },
  {
   "cell_type": "code",
   "execution_count": null,
   "id": "af1e2b63-a1fc-4f2e-b122-cebe5a78043d",
   "metadata": {},
   "outputs": [],
   "source": []
  }
 ],
 "metadata": {
  "kernelspec": {
   "display_name": "Python 3 (ipykernel)",
   "language": "python",
   "name": "python3"
  },
  "language_info": {
   "codemirror_mode": {
    "name": "ipython",
    "version": 3
   },
   "file_extension": ".py",
   "mimetype": "text/x-python",
   "name": "python",
   "nbconvert_exporter": "python",
   "pygments_lexer": "ipython3",
   "version": "3.12.9"
  }
 },
 "nbformat": 4,
 "nbformat_minor": 5
}
